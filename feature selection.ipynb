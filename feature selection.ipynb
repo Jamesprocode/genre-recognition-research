{
 "cells": [
  {
   "cell_type": "code",
   "execution_count": 18,
   "metadata": {},
   "outputs": [],
   "source": [
    "import opensmile\n",
    "import pandas as pd\n",
    "import os\n",
    "from sklearn.model_selection import train_test_split\n",
    "from sklearn.ensemble import RandomForestClassifier\n",
    "from sklearn.preprocessing import LabelEncoder\n"
   ]
  },
  {
   "cell_type": "code",
   "execution_count": 4,
   "metadata": {},
   "outputs": [],
   "source": [
    "\n",
    "smile = opensmile.Smile(\n",
    "    feature_set=opensmile.FeatureSet.ComParE_2016,\n",
    "    feature_level=opensmile.FeatureLevel.Functionals,\n",
    ")"
   ]
  },
  {
   "cell_type": "code",
   "execution_count": 10,
   "metadata": {},
   "outputs": [],
   "source": [
    "main_directory = '/Users/jameswang/workspace/genre recognition project/Data/genres_original'\n",
    "\n",
    "# Initialize an empty list to store the DataFrames\n",
    "features_list = []\n",
    "\n",
    "for subdir in os.listdir(main_directory):\n",
    "    subfolder_path = os.path.join(main_directory, subdir)\n",
    "\n",
    "    if os.path.isdir(subfolder_path):\n",
    "        for filename in os.listdir(subfolder_path):\n",
    "            if filename.endswith('.wav'):  # or your preferred format\n",
    "                file_path = os.path.join(subfolder_path, filename)\n",
    "\n",
    "                try:\n",
    "                    # Extract features for each file\n",
    "                    features = smile.process_file(file_path)\n",
    "\n",
    "                    # Reset index of features DataFrame\n",
    "                    features.reset_index(drop=True, inplace=True)\n",
    "\n",
    "                    # Create a new DataFrame for 'filename' and 'subfolder' with the same length as features\n",
    "                    additional_info = pd.DataFrame({'filename': [filename]*len(features), 'subfolder': [subdir]*len(features)})\n",
    "\n",
    "                    # Concatenate 'additional_info' with 'features'\n",
    "                    combined_features = pd.concat([additional_info, features], axis=1)\n",
    "\n",
    "                    # Append the combined DataFrame to the list\n",
    "                    features_list.append(combined_features)\n",
    "\n",
    "                except Exception as e:\n",
    "                    print(f\"Error processing file {file_path}: {e}\")\n",
    "\n",
    "\n",
    "\n",
    "# Concatenate all DataFrames in the list into a single DataFrame\n",
    "all_features = pd.concat(features_list, ignore_index=True)\n",
    "\n"
   ]
  },
  {
   "cell_type": "code",
   "execution_count": 11,
   "metadata": {},
   "outputs": [],
   "source": [
    "\n",
    "\n",
    "# Save to CSV\n",
    "all_features.to_csv('/Users/jameswang/workspace/genre recognition project/features.csv', index=False)"
   ]
  },
  {
   "cell_type": "code",
   "execution_count": 21,
   "metadata": {},
   "outputs": [],
   "source": [
    "# Load the dataset\n",
    "file_path = '/Users/jameswang/workspace/genre recognition project/features.csv'  # Replace with your file path\n",
    "data = pd.read_csv(file_path)\n",
    "data1 = pd.read_csv(file_path)\n",
    "\n",
    "# Drop 'filename' column\n",
    "data = data.drop(columns=['filename'])\n",
    "\n",
    "# Encode 'subfolder' column if it's the target variable\n",
    "if data['subfolder'].dtype == 'object':\n",
    "    le = LabelEncoder()\n",
    "    data['subfolder'] = le.fit_transform(data['subfolder'])\n",
    "\n",
    "# Split the dataset into features (X) and target (y)\n",
    "X = data.drop('subfolder', axis=1)\n",
    "y = data['subfolder']\n",
    "\n",
    "# Split the data into training and testing sets\n",
    "X_train, X_test, y_train, y_test = train_test_split(X, y, test_size=0.2, random_state=42)\n",
    "\n",
    "# Initialize a Random Forest Classifier\n",
    "rf = RandomForestClassifier(n_estimators=100, random_state=42)\n",
    "\n",
    "# Train the model\n",
    "rf.fit(X_train, y_train)\n",
    "\n",
    "# Extract feature importances\n",
    "feature_importances = rf.feature_importances_\n",
    "\n",
    "# Create a DataFrame for feature importances\n",
    "feature_importance_df = pd.DataFrame({'Feature': X.columns, 'Importance': feature_importances})\n",
    "feature_importance_df = feature_importance_df.sort_values(by='Importance', ascending=False)\n",
    "\n",
    "\n",
    "# Assuming you have already trained a RF model and obtained feature importances\n",
    "top_n_features = 500  # for example, selecting top 500 features\n",
    "selected_features = feature_importance_df.head(top_n_features)['Feature']\n",
    "\n",
    "# Create a new dataset with only selected features\n",
    "reduced_data = data[selected_features]\n",
    "\n",
    "# Extract 'filename' and 'subfolder' columns from the original dataset\n",
    "filename_subfolder = data1[['filename', 'subfolder']]\n",
    "\n",
    "# Concatenating 'filename' and 'subfolder' with the reduced dataset\n",
    "combined_data = pd.concat([filename_subfolder, reduced_data.reset_index(drop=True)], axis=1)\n",
    "\n",
    "# Save the combined dataset to a new CSV file\n",
    "combined_data.to_csv('combined_dataset.csv', index=False)\n",
    "\n",
    "\n"
   ]
  }
 ],
 "metadata": {
  "kernelspec": {
   "display_name": "MACHINE_LEARNING",
   "language": "python",
   "name": "python3"
  },
  "language_info": {
   "codemirror_mode": {
    "name": "ipython",
    "version": 3
   },
   "file_extension": ".py",
   "mimetype": "text/x-python",
   "name": "python",
   "nbconvert_exporter": "python",
   "pygments_lexer": "ipython3",
   "version": "3.9.13"
  }
 },
 "nbformat": 4,
 "nbformat_minor": 2
}
